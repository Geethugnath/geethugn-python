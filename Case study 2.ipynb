{
 "cells": [
  {
   "cell_type": "markdown",
   "id": "5b11c198",
   "metadata": {},
   "source": [
    "1.Write a Python function to sum all the numbers in a list. (Create a list and\n",
    "get list elements from user)"
   ]
  },
  {
   "cell_type": "code",
   "execution_count": 1,
   "id": "ba8b084a",
   "metadata": {},
   "outputs": [
    {
     "name": "stdout",
     "output_type": "stream",
     "text": [
      "Total numbers in List: 6\n",
      "Enter number 4\n",
      "Enter number 5\n",
      "Enter number 6\n",
      "Enter number 7\n",
      "Enter number 8\n",
      "Enter number 9\n",
      "the sum of numbers in list is 39\n"
     ]
    }
   ],
   "source": [
    "lst = []\n",
    "t = int(input('Total numbers in List: '))\n",
    "\n",
    "for num in range(t):\n",
    "    num = int(input('Enter number '))\n",
    "    lst.append(num)\n",
    "def sum(lst):\n",
    "    total = 0\n",
    "    for x in lst:\n",
    "        total=total+x\n",
    "    return total\n",
    "print('the sum of numbers in list is',sum(lst))\n"
   ]
  },
  {
   "cell_type": "markdown",
   "id": "9a972553",
   "metadata": {},
   "source": [
    "2. Write a Python function that checks whether a passed string is\n",
    "palindrome or not."
   ]
  },
  {
   "cell_type": "code",
   "execution_count": 2,
   "id": "647a6cf0",
   "metadata": {},
   "outputs": [
    {
     "name": "stdout",
     "output_type": "stream",
     "text": [
      "enter the stringmalayalam\n",
      "Yes the string is palindrome\n"
     ]
    }
   ],
   "source": [
    "def Pal(s):\n",
    "    return s == s[::-1]\n",
    "s = input('enter the string')\n",
    "ans = Pal(s)\n",
    "  \n",
    "if ans:\n",
    "    print(\"Yes the string is palindrome\")\n",
    "else:\n",
    "    print(\"No, the string is not palindrome\")"
   ]
  },
  {
   "cell_type": "markdown",
   "id": "a6fb5121",
   "metadata": {},
   "source": [
    "3. Write a Python recursive function to find the Fibonacci series. Get the limit\n",
    "from the user"
   ]
  },
  {
   "cell_type": "code",
   "execution_count": 3,
   "id": "bff545ef",
   "metadata": {},
   "outputs": [
    {
     "name": "stdout",
     "output_type": "stream",
     "text": [
      "Enter number of terms:10\n",
      "Fibonacci sequence:\n",
      "0 1 1 2 3 5 8 13 21 34 "
     ]
    }
   ],
   "source": [
    "def fibonacci(n):\n",
    "    if(n <= 1):\n",
    "        return n\n",
    "    else:\n",
    "        return(fibonacci(n-1) + fibonacci(n-2))\n",
    "n = int(input(\"Enter number of terms:\"))\n",
    "print(\"Fibonacci sequence:\")\n",
    "for i in range(n):\n",
    "    print(fibonacci(i),end=(' '))"
   ]
  },
  {
   "cell_type": "markdown",
   "id": "83941b6f",
   "metadata": {},
   "source": [
    "4. Write a Python recursive function to print the multiplication table of\n",
    "given number"
   ]
  },
  {
   "cell_type": "code",
   "execution_count": 4,
   "id": "8994ba35",
   "metadata": {},
   "outputs": [
    {
     "name": "stdout",
     "output_type": "stream",
     "text": [
      "enter the number7\n",
      "7 * 1 = 7\n",
      "7 * 2 = 14\n",
      "7 * 3 = 21\n",
      "7 * 4 = 28\n",
      "7 * 5 = 35\n",
      "7 * 6 = 42\n",
      "7 * 7 = 49\n",
      "7 * 8 = 56\n",
      "7 * 9 = 63\n",
      "7 * 10 = 70\n"
     ]
    }
   ],
   "source": [
    "def mul_table(N, i):\n",
    "    if (i > 10):\n",
    "        return\n",
    "    print(N,\"*\",i,\"=\",N * i)\n",
    "    return mul_table(N, i + 1)\n",
    "N = int(input('enter the number'))\n",
    "\n",
    "mul_table(N, 1)"
   ]
  },
  {
   "cell_type": "markdown",
   "id": "fd7ab5a4",
   "metadata": {},
   "source": [
    "5. Define a function which counts vowels and consonant in a word.\n"
   ]
  },
  {
   "cell_type": "code",
   "execution_count": 6,
   "id": "a078a2b3",
   "metadata": {},
   "outputs": [
    {
     "name": "stdout",
     "output_type": "stream",
     "text": [
      "Vowels: 6\n",
      "Consonant: 8\n"
     ]
    }
   ],
   "source": [
    "def countCharacterType(str):   \n",
    "    vowels = 0\n",
    "    consonant = 0     \n",
    "    for i in range(0, len(str)):           \n",
    "        ch = str[i]   \n",
    "        if ( (ch >= 'a' and ch <= 'z') or (ch >= 'A' and ch <= 'Z') ):           \n",
    "            ch = ch.lower()  \n",
    "            if (ch == 'a' or ch == 'e' or ch == 'i' \n",
    "                        or ch == 'o' or ch == 'u'):\n",
    "                vowels += 1\n",
    "            else:\n",
    "                consonant += 1    \n",
    "    print(\"Vowels:\", vowels)\n",
    "    print(\"Consonant:\", consonant) \n",
    "str = \"iam geethu g nath\"\n",
    "countCharacterType(str)"
   ]
  },
  {
   "cell_type": "markdown",
   "id": "9dafedeb",
   "metadata": {},
   "source": [
    "6. Define a function that accepts lowercase words and returns uppercase\n",
    "words."
   ]
  },
  {
   "cell_type": "code",
   "execution_count": 7,
   "id": "8d407b8b",
   "metadata": {},
   "outputs": [
    {
     "name": "stdout",
     "output_type": "stream",
     "text": [
      "enter the word:abdjchnehdgg\n"
     ]
    },
    {
     "data": {
      "text/plain": [
       "'ABDJCHNEHDGG'"
      ]
     },
     "execution_count": 7,
     "metadata": {},
     "output_type": "execute_result"
    }
   ],
   "source": [
    "def upper(text):\n",
    "    uppered = text.upper()\n",
    "    return uppered\n",
    "\n",
    "text=input(('enter the word:').lower())\n",
    "upper(text)"
   ]
  },
  {
   "cell_type": "markdown",
   "id": "3cb594b4",
   "metadata": {},
   "source": [
    "7. Write a Python program to remove ‘None’ values from a given list using\n",
    "the lambda function.\n",
    "Given input = [12, 0, None, 23, None, -55, 234, 89, None, 0, 6, -12]\n",
    "Expected output = [12, 0, 23, -55, 234, 89, 0, 6, -12]"
   ]
  },
  {
   "cell_type": "code",
   "execution_count": 8,
   "id": "8ae8ea3f",
   "metadata": {},
   "outputs": [
    {
     "name": "stdout",
     "output_type": "stream",
     "text": [
      "Original list:\n",
      "[12, 0, None, 23, None, -55, 234, 89, None, 0, 6, -12]\n",
      "\n",
      "Remove None value from the said list:\n",
      "[12, 0, 23, -55, 234, 89, 0, 6, -12]\n"
     ]
    }
   ],
   "source": [
    "def remove_none(num):\n",
    "    result = filter(lambda v: v != None, num)\n",
    "    return list(result)\n",
    "\n",
    "num = [12, 0, None, 23, None, -55, 234, 89, None, 0, 6, -12]\n",
    "print(\"Original list:\")\n",
    "print(num)\n",
    "\n",
    "print(\"\\nRemove None value from the said list:\")\n",
    "print(remove_none(num))"
   ]
  },
  {
   "cell_type": "markdown",
   "id": "f9bbe02a",
   "metadata": {},
   "source": [
    "8. Write a Rectangle class in Python language, allowing you to build a\n",
    "rectangle with length and width attributes.\n",
    "a. Create a Perimeter() method to calculate the perimeter of the\n",
    "rectangle and a Area() method to calculate the area of the rectangle.\n",
    "b. Create a method display() that display the length, width, perimeter\n",
    "and area of an object created using an instantiation on rectangle\n",
    "class.\n",
    "c. Create a Parallelepiped child class inheriting from the Rectangle\n",
    "class and with a height attribute and another Volume() method to\n",
    "calculate the volume of the Parallelepiped."
   ]
  },
  {
   "cell_type": "code",
   "execution_count": 9,
   "id": "cbb80460",
   "metadata": {},
   "outputs": [
    {
     "name": "stdout",
     "output_type": "stream",
     "text": [
      "The length of rectangle is:  5\n",
      "The width of rectangle is:  10\n",
      "The perimeter of rectangle is:  30\n",
      "The area of rectangle is:  50\n",
      "the volume of myParallelepipede is:  100\n"
     ]
    }
   ],
   "source": [
    "class Rectangle:\n",
    "     \n",
    "    def __init__(self, length , width):\n",
    "        self.length = length\n",
    "        self.width = width\n",
    "        \n",
    "   \n",
    "    def Perimeter(self):\n",
    "        return 2*(self.length + self.width)\n",
    "    \n",
    "   \n",
    "    def Area(self):\n",
    "        return self.length*self.width   \n",
    "    \n",
    "    \n",
    "    def display(self):\n",
    "        print(\"The length of rectangle is: \", self.length)\n",
    "        print(\"The width of rectangle is: \", self.width)\n",
    "        print(\"The perimeter of rectangle is: \", self.Perimeter())\n",
    "        print(\"The area of rectangle is: \", self.Area())\n",
    "class Parallelepipede(Rectangle):\n",
    "    def __init__(self, length, width , height):\n",
    "        Rectangle.__init__(self, length, width)\n",
    "        self.height = height\n",
    "        \n",
    "    \n",
    "    def volume(self):\n",
    "        return self.length*self.width*self.height\n",
    "        \n",
    "myRectangle = Rectangle(5 , 10)\n",
    "myRectangle.display()\n",
    "myParallelepipede = Parallelepipede(5 , 10 , 2)\n",
    "print(\"the volume of myParallelepipede is: \" , myParallelepipede.volume())"
   ]
  },
  {
   "cell_type": "markdown",
   "id": "caede8da",
   "metadata": {},
   "source": [
    "Create a Python class called BankAccount which represents a bank\n",
    "account, having as attributes: accountNumber (numeric type), name\n",
    "(name of the account owner as string type), balance.\n",
    "a. Create a constructor with parameters: accountNumber, name,\n",
    "balance.b. Create a Deposit() method which manages the deposit actions.\n",
    "c. Create a Withdrawal() method which manages withdrawals\n",
    "actions.\n",
    "d. Create an bankFees() method to apply the bank fees with a\n",
    "percentage of 5% of the balance account.\n",
    "e. Create a display() method to display account details.\n",
    "f. Give the complete code for the BankAccount class"
   ]
  },
  {
   "cell_type": "code",
   "execution_count": 10,
   "id": "8c199155",
   "metadata": {},
   "outputs": [
    {
     "name": "stdout",
     "output_type": "stream",
     "text": [
      "Account Number :  2178514584\n",
      "Account Name :  Geethu\n",
      "Account Balance :  299000 rupees\n"
     ]
    }
   ],
   "source": [
    "class BankAccount:\n",
    "     \n",
    "    def __init__(self,accountNumber, name, balance):\n",
    "        self.accountNumber = accountNumber\n",
    "        self.name = name\n",
    "        self.balance = balance\n",
    "        \n",
    "    \n",
    "    def Deposit(self , d ):\n",
    "        self.balance = self.balance + d\n",
    "    \n",
    "    \n",
    "    def Withdrawal(self , w):\n",
    "        if(self.balance < w):\n",
    "            print(\"impossible operation! Insufficient balance !\")\n",
    "        else:\n",
    "            self.balance = self.balance - w\n",
    "    \n",
    "    def bankFees(self):\n",
    "        self.balance = (95/100)*self.balance\n",
    "    \n",
    "    def display(self):\n",
    "        print(\"Account Number : \" , self.accountNumber)\n",
    "        print(\"Account Name : \" , self.name)\n",
    "        print(\"Account Balance : \" , self.balance , \"rupees\")\n",
    "        \n",
    "\n",
    "newAccount = BankAccount(2178514584, \"Geethu\" , 300000)\n",
    "\n",
    "newAccount.Withdrawal(3000)\n",
    "\n",
    "newAccount.Deposit(2000)\n",
    "\n",
    "newAccount.display()"
   ]
  },
  {
   "cell_type": "markdown",
   "id": "1da6d95b",
   "metadata": {},
   "source": [
    "10. Create a base class rectangle with attributes length and breadth, methods\n",
    "area and perimeter.\n",
    "a. Save the rectangle class as a python file rectangle.py file.\n",
    "b. Open another python script and import the rectangle.py file.\n",
    "c. In the newly created script derive a child class called Parallelepiped\n",
    "class inheriting from the Rectangle class and with a height attribute\n",
    "and another Volume() method to calculate the volume of the\n",
    "Parallelepiped.\n",
    "d. Now create objects for parent class and child class in newly created\n",
    "script and access methods of parent class and child class."
   ]
  },
  {
   "cell_type": "code",
   "execution_count": 25,
   "id": "444b28dd",
   "metadata": {},
   "outputs": [
    {
     "name": "stdout",
     "output_type": "stream",
     "text": [
      "The length of rectangle is:  5\n",
      "The width of rectangle is:  10\n",
      "The perimeter of rectangle is:  30\n",
      "The area of rectangle is:  50\n",
      "the volume of myParallelepipede is:  100\n"
     ]
    }
   ],
   "source": [
    "from newrect import Rectangle\n",
    "class Parallelepipede(Rectangle):\n",
    "    def __init__(self, length, width , height):\n",
    "        Rectangle.__init__(self, length, width)\n",
    "        self.height = height\n",
    "        \n",
    "    \n",
    "    def volume(self):\n",
    "        return self.length*self.width*self.height\n",
    "        \n",
    "myRectangle = Rectangle(5 , 10)\n",
    "myRectangle.display()\n",
    "myParallelepipede = Parallelepipede(5 , 10 , 2)\n",
    "print(\"the volume of myParallelepipede is: \" , myParallelepipede.volume())"
   ]
  },
  {
   "cell_type": "code",
   "execution_count": null,
   "id": "f5136e58",
   "metadata": {},
   "outputs": [],
   "source": []
  },
  {
   "cell_type": "code",
   "execution_count": null,
   "id": "22d5b391",
   "metadata": {},
   "outputs": [],
   "source": []
  }
 ],
 "metadata": {
  "kernelspec": {
   "display_name": "Python 3 (ipykernel)",
   "language": "python",
   "name": "python3"
  },
  "language_info": {
   "codemirror_mode": {
    "name": "ipython",
    "version": 3
   },
   "file_extension": ".py",
   "mimetype": "text/x-python",
   "name": "python",
   "nbconvert_exporter": "python",
   "pygments_lexer": "ipython3",
   "version": "3.9.13"
  }
 },
 "nbformat": 4,
 "nbformat_minor": 5
}
