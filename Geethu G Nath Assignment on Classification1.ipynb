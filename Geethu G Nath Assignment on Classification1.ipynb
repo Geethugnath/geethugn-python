{
 "cells": [
  {
   "cell_type": "markdown",
   "id": "c596eedf",
   "metadata": {},
   "source": [
    "Do the following in the iris dataset\n",
    "\n",
    "1.Read the dataset to python environment 2.Do the necessary pre-processing steps 3.Find out which classification model gives the best result (try all the classification algorithms discussed in the session)"
   ]
  },
  {
   "cell_type": "markdown",
   "id": "d775482b",
   "metadata": {},
   "source": [
    "1.Read the Dataset into the Python Environment."
   ]
  },
  {
   "cell_type": "code",
   "execution_count": 2,
   "id": "39db42f5",
   "metadata": {},
   "outputs": [],
   "source": [
    "import pandas as pd\n",
    "import numpy as np\n",
    "# Load the Iris dataset\n",
    "df = pd.read_excel(r\"C:\\Users\\csaru\\Downloads\\iris (1).xls\")"
   ]
  },
  {
   "cell_type": "code",
   "execution_count": 3,
   "id": "85b20df5",
   "metadata": {},
   "outputs": [],
   "source": [
    "from sklearn.model_selection import train_test_split\n",
    "from sklearn.preprocessing import StandardScaler\n",
    "from sklearn.linear_model import LogisticRegression\n",
    "from sklearn.neighbors import KNeighborsClassifier\n",
    "from sklearn.svm import SVC\n",
    "from sklearn.tree import DecisionTreeClassifier\n",
    "from sklearn.ensemble import RandomForestClassifier\n",
    "from sklearn.metrics import accuracy_score, confusion_matrix, classification_report"
   ]
  },
  {
   "cell_type": "code",
   "execution_count": 6,
   "id": "12649a29",
   "metadata": {},
   "outputs": [
    {
     "name": "stdout",
     "output_type": "stream",
     "text": [
      "Index(['SL', 'SW', 'PL', 'PW', 'Classification'], dtype='object')\n"
     ]
    }
   ],
   "source": [
    " #Display the columns\n",
    "print(df.columns)"
   ]
  },
  {
   "cell_type": "code",
   "execution_count": 8,
   "id": "054d1c13",
   "metadata": {},
   "outputs": [
    {
     "name": "stdout",
     "output_type": "stream",
     "text": [
      "SL                7\n",
      "SW                6\n",
      "PL                6\n",
      "PW                0\n",
      "Classification    0\n",
      "dtype: int64\n"
     ]
    }
   ],
   "source": [
    "#Check for missing values:\n",
    "\n",
    "missing_values = df.isnull().sum()\n",
    "print(missing_values)"
   ]
  },
  {
   "cell_type": "code",
   "execution_count": 9,
   "id": "c1b3f8b8",
   "metadata": {},
   "outputs": [],
   "source": [
    "# Handling missing values (if any)\n",
    "df.dropna(inplace=True)"
   ]
  },
  {
   "cell_type": "code",
   "execution_count": 10,
   "id": "e3c46444",
   "metadata": {},
   "outputs": [
    {
     "name": "stdout",
     "output_type": "stream",
     "text": [
      "SL                0\n",
      "SW                0\n",
      "PL                0\n",
      "PW                0\n",
      "Classification    0\n",
      "dtype: int64\n"
     ]
    }
   ],
   "source": [
    "missing_values = df.isnull().sum()\n",
    "print(missing_values)"
   ]
  },
  {
   "cell_type": "code",
   "execution_count": 11,
   "id": "85e1f92c",
   "metadata": {},
   "outputs": [],
   "source": [
    "# Split the dataset into features and labels\n",
    "X = df.iloc[:, :-1]\n",
    "y = df.iloc[:, -1]"
   ]
  },
  {
   "cell_type": "code",
   "execution_count": 16,
   "id": "c4492905",
   "metadata": {},
   "outputs": [],
   "source": [
    "# Split the data into training and testing sets\n",
    "X_train, X_test, y_train, y_test = train_test_split(X, y, test_size=0.2, random_state=42)\n"
   ]
  },
  {
   "cell_type": "code",
   "execution_count": 17,
   "id": "0ec09806",
   "metadata": {},
   "outputs": [
    {
     "name": "stdout",
     "output_type": "stream",
     "text": [
      "X_train shape: (104, 4)\n",
      "y_train shape: (104,)\n",
      "X_test shape: (27, 4)\n",
      "y_test shape: (27,)\n"
     ]
    }
   ],
   "source": [
    "# Display results\n",
    "print(\"X_train shape:\", X_train.shape)\n",
    "print(\"y_train shape:\", y_train.shape)\n",
    "print(\"X_test shape:\", X_test.shape)\n",
    "print(\"y_test shape:\", y_test.shape)"
   ]
  },
  {
   "cell_type": "code",
   "execution_count": 21,
   "id": "6a0dfe97",
   "metadata": {},
   "outputs": [],
   "source": [
    "\n",
    "# Scale the features separately for each model\n",
    "scaler_lr = StandardScaler()\n",
    "scaler_knn = StandardScaler()\n",
    "scaler_svm = StandardScaler()\n",
    "scaler_dt = StandardScaler()\n",
    "scaler_rf = StandardScaler()\n"
   ]
  },
  {
   "cell_type": "code",
   "execution_count": 22,
   "id": "d4237a52",
   "metadata": {},
   "outputs": [
    {
     "name": "stdout",
     "output_type": "stream",
     "text": [
      "Logistic Regression:\n",
      "Accuracy: 1.0\n",
      "Confusion Matrix:\n",
      " [[10  0  0]\n",
      " [ 0  9  0]\n",
      " [ 0  0  8]]\n",
      "Classification Report:\n",
      "                  precision    recall  f1-score   support\n",
      "\n",
      "    Iris-setosa       1.00      1.00      1.00        10\n",
      "Iris-versicolor       1.00      1.00      1.00         9\n",
      " Iris-virginica       1.00      1.00      1.00         8\n",
      "\n",
      "       accuracy                           1.00        27\n",
      "      macro avg       1.00      1.00      1.00        27\n",
      "   weighted avg       1.00      1.00      1.00        27\n",
      "\n"
     ]
    }
   ],
   "source": [
    "# Logistic Regression\n",
    "lr = LogisticRegression()\n",
    "X_train_lr = scaler_lr.fit_transform(X_train)\n",
    "X_test_lr = scaler_lr.transform(X_test)\n",
    "lr.fit(X_train_lr, y_train)\n",
    "lr_pred = lr.predict(X_test_lr)\n",
    "lr_accuracy = accuracy_score(y_test, lr_pred)\n",
    "lr_cm = confusion_matrix(y_test, lr_pred)\n",
    "lr_report = classification_report(y_test, lr_pred)\n",
    "\n",
    "print(\"Logistic Regression:\")\n",
    "print(\"Accuracy:\", lr_accuracy)\n",
    "print(\"Confusion Matrix:\\n\", lr_cm)\n",
    "print(\"Classification Report:\\n\", lr_report)\n"
   ]
  },
  {
   "cell_type": "code",
   "execution_count": 23,
   "id": "e9f08d11",
   "metadata": {},
   "outputs": [
    {
     "name": "stdout",
     "output_type": "stream",
     "text": [
      "\n",
      "K-Nearest Neighbors:\n",
      "Accuracy: 1.0\n",
      "Confusion Matrix:\n",
      " [[10  0  0]\n",
      " [ 0  9  0]\n",
      " [ 0  0  8]]\n",
      "Classification Report:\n",
      "                  precision    recall  f1-score   support\n",
      "\n",
      "    Iris-setosa       1.00      1.00      1.00        10\n",
      "Iris-versicolor       1.00      1.00      1.00         9\n",
      " Iris-virginica       1.00      1.00      1.00         8\n",
      "\n",
      "       accuracy                           1.00        27\n",
      "      macro avg       1.00      1.00      1.00        27\n",
      "   weighted avg       1.00      1.00      1.00        27\n",
      "\n"
     ]
    },
    {
     "name": "stderr",
     "output_type": "stream",
     "text": [
      "C:\\Users\\csaru\\anaconda3\\lib\\site-packages\\sklearn\\neighbors\\_classification.py:228: FutureWarning: Unlike other reduction functions (e.g. `skew`, `kurtosis`), the default behavior of `mode` typically preserves the axis it acts along. In SciPy 1.11.0, this behavior will change: the default value of `keepdims` will become False, the `axis` over which the statistic is taken will be eliminated, and the value None will no longer be accepted. Set `keepdims` to True or False to avoid this warning.\n",
      "  mode, _ = stats.mode(_y[neigh_ind, k], axis=1)\n"
     ]
    }
   ],
   "source": [
    "# K-Nearest Neighbors\n",
    "knn = KNeighborsClassifier()\n",
    "X_train_knn = scaler_knn.fit_transform(X_train)\n",
    "X_test_knn = scaler_knn.transform(X_test)\n",
    "knn.fit(X_train_knn, y_train)\n",
    "knn_pred = knn.predict(X_test_knn)\n",
    "knn_accuracy = accuracy_score(y_test, knn_pred)\n",
    "knn_cm = confusion_matrix(y_test, knn_pred)\n",
    "knn_report = classification_report(y_test, knn_pred)\n",
    "\n",
    "print(\"\\nK-Nearest Neighbors:\")\n",
    "print(\"Accuracy:\", knn_accuracy)\n",
    "print(\"Confusion Matrix:\\n\", knn_cm)\n",
    "print(\"Classification Report:\\n\", knn_report)\n"
   ]
  },
  {
   "cell_type": "code",
   "execution_count": 24,
   "id": "184d152d",
   "metadata": {},
   "outputs": [],
   "source": [
    "# Support Vector Machines\n",
    "svm = SVC()\n",
    "X_train_svm = scaler_svm.fit_transform(X_train)\n",
    "X_test_svm = scaler_svm.transform(X_test)\n",
    "svm.fit(X_train_svm, y_train)\n",
    "svm_pred = svm.predict(X_test_svm)\n",
    "svm_accuracy = accuracy_score(y_test, svm_pred)\n",
    "svm_cm = confusion_matrix(y_test, svm_pred)\n",
    "svm_report = classification_report(y_test, svm_pred)"
   ]
  },
  {
   "cell_type": "code",
   "execution_count": 25,
   "id": "a3cd001d",
   "metadata": {},
   "outputs": [
    {
     "name": "stdout",
     "output_type": "stream",
     "text": [
      "\n",
      "Support Vector Machines:\n",
      "Accuracy: 1.0\n",
      "Confusion Matrix:\n",
      " [[10  0  0]\n",
      " [ 0  9  0]\n",
      " [ 0  0  8]]\n",
      "Classification Report:\n",
      "                  precision    recall  f1-score   support\n",
      "\n",
      "    Iris-setosa       1.00      1.00      1.00        10\n",
      "Iris-versicolor       1.00      1.00      1.00         9\n",
      " Iris-virginica       1.00      1.00      1.00         8\n",
      "\n",
      "       accuracy                           1.00        27\n",
      "      macro avg       1.00      1.00      1.00        27\n",
      "   weighted avg       1.00      1.00      1.00        27\n",
      "\n"
     ]
    }
   ],
   "source": [
    "print(\"\\nSupport Vector Machines:\")\n",
    "print(\"Accuracy:\", svm_accuracy)\n",
    "print(\"Confusion Matrix:\\n\", svm_cm)\n",
    "print(\"Classification Report:\\n\", svm_report)\n"
   ]
  },
  {
   "cell_type": "code",
   "execution_count": 26,
   "id": "8592df81",
   "metadata": {},
   "outputs": [
    {
     "name": "stdout",
     "output_type": "stream",
     "text": [
      "\n",
      "Decision Trees:\n",
      "Accuracy: 1.0\n",
      "Confusion Matrix:\n",
      " [[10  0  0]\n",
      " [ 0  9  0]\n",
      " [ 0  0  8]]\n",
      "Classification Report:\n",
      "                  precision    recall  f1-score   support\n",
      "\n",
      "    Iris-setosa       1.00      1.00      1.00        10\n",
      "Iris-versicolor       1.00      1.00      1.00         9\n",
      " Iris-virginica       1.00      1.00      1.00         8\n",
      "\n",
      "       accuracy                           1.00        27\n",
      "      macro avg       1.00      1.00      1.00        27\n",
      "   weighted avg       1.00      1.00      1.00        27\n",
      "\n"
     ]
    }
   ],
   "source": [
    "# Decision Trees\n",
    "dt = DecisionTreeClassifier()\n",
    "X_train_dt = scaler_dt.fit_transform(X_train)\n",
    "X_test_dt = scaler_dt.transform(X_test)\n",
    "dt.fit(X_train_dt, y_train)\n",
    "dt_pred = dt.predict(X_test_dt)\n",
    "dt_accuracy = accuracy_score(y_test, dt_pred)\n",
    "dt_cm = confusion_matrix(y_test, dt_pred)\n",
    "dt_report = classification_report(y_test, dt_pred)\n",
    "\n",
    "print(\"\\nDecision Trees:\")\n",
    "print(\"Accuracy:\", dt_accuracy)\n",
    "print(\"Confusion Matrix:\\n\", dt_cm)\n",
    "print(\"Classification Report:\\n\", dt_report)\n"
   ]
  },
  {
   "cell_type": "code",
   "execution_count": 27,
   "id": "148b5f09",
   "metadata": {},
   "outputs": [
    {
     "name": "stdout",
     "output_type": "stream",
     "text": [
      "\n",
      "Random Forest:\n",
      "Accuracy: 1.0\n",
      "Confusion Matrix:\n",
      " [[10  0  0]\n",
      " [ 0  9  0]\n",
      " [ 0  0  8]]\n",
      "Classification Report:\n",
      "                  precision    recall  f1-score   support\n",
      "\n",
      "    Iris-setosa       1.00      1.00      1.00        10\n",
      "Iris-versicolor       1.00      1.00      1.00         9\n",
      " Iris-virginica       1.00      1.00      1.00         8\n",
      "\n",
      "       accuracy                           1.00        27\n",
      "      macro avg       1.00      1.00      1.00        27\n",
      "   weighted avg       1.00      1.00      1.00        27\n",
      "\n"
     ]
    }
   ],
   "source": [
    "# Random Forest\n",
    "rf = RandomForestClassifier()\n",
    "X_train_rf = scaler_rf.fit_transform(X_train)\n",
    "X_test_rf = scaler_rf.transform(X_test)\n",
    "rf.fit(X_train_rf, y_train)\n",
    "rf_pred = rf.predict(X_test_rf)\n",
    "rf_accuracy = accuracy_score(y_test, rf_pred)\n",
    "rf_cm = confusion_matrix(y_test, rf_pred)\n",
    "rf_report = classification_report(y_test, rf_pred)\n",
    "\n",
    "print(\"\\nRandom Forest:\")\n",
    "print(\"Accuracy:\", rf_accuracy)\n",
    "print(\"Confusion Matrix:\\n\", rf_cm)\n",
    "print(\"Classification Report:\\n\", rf_report)"
   ]
  },
  {
   "cell_type": "code",
   "execution_count": 28,
   "id": "23aaf237",
   "metadata": {},
   "outputs": [
    {
     "name": "stdout",
     "output_type": "stream",
     "text": [
      "\n",
      "Best Model: Logistic Regression\n"
     ]
    }
   ],
   "source": [
    "# Compare the models and find the best one\n",
    "accuracies = [lr_accuracy, knn_accuracy, svm_accuracy, dt_accuracy, rf_accuracy]\n",
    "best_model_idx = np.argmax(accuracies)\n",
    "best_model = [\"Logistic Regression\", \"K-Nearest Neighbors\", \"Support Vector Machines\", \"Decision Trees\", \"Random Forest\"][best_model_idx]\n",
    "\n",
    "print(\"\\nBest Model:\", best_model)"
   ]
  },
  {
   "cell_type": "code",
   "execution_count": null,
   "id": "a0a0df6c",
   "metadata": {},
   "outputs": [],
   "source": []
  }
 ],
 "metadata": {
  "kernelspec": {
   "display_name": "Python 3 (ipykernel)",
   "language": "python",
   "name": "python3"
  },
  "language_info": {
   "codemirror_mode": {
    "name": "ipython",
    "version": 3
   },
   "file_extension": ".py",
   "mimetype": "text/x-python",
   "name": "python",
   "nbconvert_exporter": "python",
   "pygments_lexer": "ipython3",
   "version": "3.9.13"
  }
 },
 "nbformat": 4,
 "nbformat_minor": 5
}
