{
 "cells": [
  {
   "cell_type": "markdown",
   "id": "4300d787",
   "metadata": {},
   "source": [
    "1. A school has following rules for grading system:\n",
    "a. Below 25 - F\n",
    "b. 25 to 45 - E\n",
    "c. 45 to 50 - D\n",
    "d. 50 to 60 - C\n",
    "e. 60 to 80 - B\n",
    "f. Above 80 - A\n",
    "Ask user to enter marks and print the corresponding grade."
   ]
  },
  {
   "cell_type": "code",
   "execution_count": 2,
   "id": "9ab3246e",
   "metadata": {},
   "outputs": [
    {
     "name": "stdout",
     "output_type": "stream",
     "text": [
      "Enter your score89\n",
      "A\n"
     ]
    }
   ],
   "source": [
    "score = input(\"Enter your score\")\n",
    "score = int(score)\n",
    "if score < 25:\n",
    "    print(\"F\")\n",
    "elif score >= 25 and score < 45:\n",
    "    print(\"E\")\n",
    "elif score >= 45 and score < 50:\n",
    "    print(\"D\")\n",
    "elif score >= 50 and score < 60:  \n",
    "    print(\"C\")\n",
    "elif score >= 60 and score < 80:  \n",
    "    print(\"B\")\n",
    "else:  \n",
    "    print(\"A\")"
   ]
  },
  {
   "cell_type": "markdown",
   "id": "dfee6ada",
   "metadata": {},
   "source": [
    "3.Take values of length and breadth of a rectangle from user and check if it\n",
    "is square or not.\n"
   ]
  },
  {
   "cell_type": "code",
   "execution_count": 3,
   "id": "1fe74fcc",
   "metadata": {},
   "outputs": [
    {
     "name": "stdout",
     "output_type": "stream",
     "text": [
      "enter the length of the figure5\n",
      "enter the breadth of the figure7\n",
      "the figure is not a square\n"
     ]
    }
   ],
   "source": [
    "a=int(input(\"enter the length of the figure\"))\n",
    "b=int(input(\"enter the breadth of the figure\"))\n",
    "if a==b:\n",
    "    print(\"the figure is a square\")\n",
    "else:\n",
    "    print(\"the figure is not a square\")"
   ]
  },
  {
   "cell_type": "markdown",
   "id": "2554d11b",
   "metadata": {},
   "source": [
    "4.A student will not be allowed to sit in exam if his/her attendance is less\n",
    "than 75%. Take following input from user Number of classes held\n",
    "Number of classes attended. And print percentage of class attended Is\n",
    "student is allowed to sit in exam or not.\n"
   ]
  },
  {
   "cell_type": "code",
   "execution_count": 6,
   "id": "fbc8342f",
   "metadata": {},
   "outputs": [
    {
     "name": "stdout",
     "output_type": "stream",
     "text": [
      "enter the total number of classes100\n",
      "enter the number of classes attended89\n",
      "8900\n",
      "student is allowed to sit in the exam\n"
     ]
    }
   ],
   "source": [
    "t= int(input('enter the total number of classes'))\n",
    "c=int(input('enter the number of classes attended'))\n",
    "p=(c%t)*100\n",
    "print(p)\n",
    "if p>75:\n",
    "    print('student is allowed to sit in the exam')\n",
    "else:\n",
    "    print('student is not allowed to sit in the exam')"
   ]
  },
  {
   "cell_type": "markdown",
   "id": "b5641d7f",
   "metadata": {},
   "source": [
    "5.Create a list by taking length of the list and elements of the list from user.\n",
    "Then find the sum of the elements of the list. Also create a new called even\n",
    "list which contains only even numbers from first list and odd list which\n",
    "contains odd numbers from the list. "
   ]
  },
  {
   "cell_type": "code",
   "execution_count": 14,
   "id": "c81a2f0e",
   "metadata": {},
   "outputs": [
    {
     "name": "stdout",
     "output_type": "stream",
     "text": [
      "Enter number of elements:2\n",
      "Enter element:3\n",
      "Enter element:5\n",
      "8\n",
      "The even list []\n",
      "The odd list [3, 5]\n"
     ]
    }
   ],
   "source": [
    "a=[]\n",
    "n=int(input(\"Enter number of elements:\"))\n",
    "for i in range(1,n+1):\n",
    "    b=int(input(\"Enter element:\"))\n",
    "    a.append(b)\n",
    "s=0\n",
    "for i in range (0,n):\n",
    "    s=s+a[i]\n",
    "print(s)\n",
    "even=[]\n",
    "odd=[]\n",
    "for j in a:\n",
    "    if(j%2==0):\n",
    "        even.append(j)\n",
    "    else:\n",
    "        odd.append(j)\n",
    "print(\"The even list\",even)\n",
    "print(\"The odd list\",odd)"
   ]
  },
  {
   "cell_type": "markdown",
   "id": "1344dae2",
   "metadata": {},
   "source": [
    "7. Write a program to find the roots of a quadratic equation. Get the coefficients of quadratic equation ax^2+bx+c and display whether the roots\n",
    "are real and equal or real and distinct or roots are imaginary. You have to\n",
    "find the roots and display it as well."
   ]
  },
  {
   "cell_type": "code",
   "execution_count": 15,
   "id": "4619b4fd",
   "metadata": {},
   "outputs": [
    {
     "name": "stdout",
     "output_type": "stream",
     "text": [
      "Quadratic function : (a * x^2) + b*x + c\n",
      "a: 1\n",
      "b: -3\n",
      "c: 2\n",
      "The roots are real and unequal.\n",
      "There are 2 roots: 2.000000 and 1.000000\n"
     ]
    }
   ],
   "source": [
    "from math import sqrt\n",
    "\n",
    "print(\"Quadratic function : (a * x^2) + b*x + c\")\n",
    "a = float(input(\"a: \"))\n",
    "b = float(input(\"b: \"))\n",
    "c = float(input(\"c: \"))\n",
    "\n",
    "r = b**2 - 4*a*c\n",
    "\n",
    "if r > 0:\n",
    "    print('The roots are real and unequal.')\n",
    "    num_roots = 2\n",
    "    x1 = (((-b) + sqrt(r))/(2*a))     \n",
    "    x2 = (((-b) - sqrt(r))/(2*a))\n",
    "    print(\"There are 2 roots: %f and %f\" % (x1, x2))\n",
    "elif r == 0:\n",
    "    print('The roots are real and equal.')\n",
    "    num_roots = 1\n",
    "    x = (-b) / 2*a\n",
    "    print(\"There is one root: \", x)\n",
    "else:\n",
    "    print('The roots are imaginary and unequal.')\n",
    "    num_roots = 0\n",
    "    print(\"No roots, discriminant < 0.\")\n",
    "    exit()"
   ]
  },
  {
   "cell_type": "markdown",
   "id": "f1482d81",
   "metadata": {},
   "source": [
    "8.Given a range of first 10 numbers, write a Python program to iterate from\n",
    "start number to the end number and print the sum of the current number\n",
    "and previous number"
   ]
  },
  {
   "cell_type": "code",
   "execution_count": 17,
   "id": "629f18ff",
   "metadata": {},
   "outputs": [
    {
     "name": "stdout",
     "output_type": "stream",
     "text": [
      "Current number 0 Previous Number 0  sum is 0\n",
      "Current number 1 Previous Number 0  sum is 1\n",
      "Current number 2 Previous Number 1  sum is 3\n",
      "Current number 3 Previous Number 2  sum is 5\n",
      "Current number 4 Previous Number 3  sum is 7\n",
      "Current number 5 Previous Number 4  sum is 9\n",
      "Current number 6 Previous Number 5  sum is 11\n",
      "Current number 7 Previous Number 6  sum is 13\n",
      "Current number 8 Previous Number 7  sum is 15\n",
      "Current number 9 Previous Number 8  sum is 17\n"
     ]
    }
   ],
   "source": [
    "previous_num = 0\n",
    "for i in range(10):\n",
    "    sum = previous_num + i\n",
    "    print(f'Current number {i} Previous Number {previous_num}  sum is {sum}')\n",
    "    previous_num = i"
   ]
  },
  {
   "cell_type": "markdown",
   "id": "9eef318d",
   "metadata": {},
   "source": [
    "9.Write a Python program to find the prime numbers in a given range. Get\n",
    "the range from user and print prime numbers in that range.\n"
   ]
  },
  {
   "cell_type": "code",
   "execution_count": 19,
   "id": "71f49795",
   "metadata": {},
   "outputs": [
    {
     "name": "stdout",
     "output_type": "stream",
     "text": [
      "Please, Enter the Lowest Range Value: 1\n",
      "Please, Enter the Upper Range Value: 15\n",
      "The Prime Numbers in the range are: \n",
      "2 3 5 7 11 13 "
     ]
    }
   ],
   "source": [
    "lower_value = int(input (\"Please, Enter the Lowest Range Value: \"))  \n",
    "upper_value = int(input (\"Please, Enter the Upper Range Value: \"))  \n",
    "  \n",
    "print (\"The Prime Numbers in the range are: \")  \n",
    "for number in range (lower_value, upper_value + 1):  \n",
    "    if number > 1:  \n",
    "        for i in range (2, number):  \n",
    "            if (number % i) == 0:  \n",
    "                break  \n",
    "        else:  \n",
    "            print (number,end=(' '))  "
   ]
  },
  {
   "cell_type": "markdown",
   "id": "72bd81ef",
   "metadata": {},
   "source": [
    "10. Write a Python program to print Fibonacci series in a given range. Get\n",
    "the range from user and print fibonacci numbers in that range."
   ]
  },
  {
   "cell_type": "code",
   "execution_count": 21,
   "id": "3231ee17",
   "metadata": {},
   "outputs": [
    {
     "name": "stdout",
     "output_type": "stream",
     "text": [
      "How many terms the user wants to print? 10\n",
      "The fibonacci sequence of the numbers is:\n",
      "0 1 1 2 3 5 8 13 21 34 "
     ]
    }
   ],
   "source": [
    "n_terms = int(input (\"How many terms the user wants to print? \"))  \n",
    "  \n",
    "\n",
    "n_1 = 0  \n",
    "n_2 = 1  \n",
    "count = 0  \n",
    "  \n",
    "if n_terms <= 0:  \n",
    "    print (\"Please enter a positive integer, the given number is not valid\")  \n",
    "\n",
    "elif n_terms == 1:  \n",
    "    print (\"The Fibonacci sequence of the numbers up to\", n_terms, \": \")  \n",
    "    print(n_1)  \n",
    "\n",
    "else:  \n",
    "    print (\"The fibonacci sequence of the numbers is:\")  \n",
    "    while count < n_terms:  \n",
    "        print(n_1,end=' ')  \n",
    "        nth = n_1 + n_2  \n",
    "      \n",
    "        n_1 = n_2  \n",
    "        n_2 = nth  \n",
    "        count += 1  "
   ]
  },
  {
   "cell_type": "code",
   "execution_count": null,
   "id": "1d2ffa24",
   "metadata": {},
   "outputs": [],
   "source": []
  }
 ],
 "metadata": {
  "kernelspec": {
   "display_name": "Python 3 (ipykernel)",
   "language": "python",
   "name": "python3"
  },
  "language_info": {
   "codemirror_mode": {
    "name": "ipython",
    "version": 3
   },
   "file_extension": ".py",
   "mimetype": "text/x-python",
   "name": "python",
   "nbconvert_exporter": "python",
   "pygments_lexer": "ipython3",
   "version": "3.9.13"
  }
 },
 "nbformat": 4,
 "nbformat_minor": 5
}
