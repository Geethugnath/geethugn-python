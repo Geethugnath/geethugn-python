{
 "cells": [
  {
   "cell_type": "code",
   "execution_count": 1,
   "id": "9d02eb26",
   "metadata": {},
   "outputs": [],
   "source": [
    "## 1.Write a Python Program to accept the details of a student like name, roll number\n",
    "##   and mark and display it."
   ]
  },
  {
   "cell_type": "code",
   "execution_count": 38,
   "id": "eb16d4e2",
   "metadata": {},
   "outputs": [
    {
     "name": "stdout",
     "output_type": "stream",
     "text": [
      "Enter the name:Geethu G Nath\n",
      "Enter the roll number:37\n",
      "Enter the mark:89\n",
      "Name: Geethu G Nath\n",
      "Roll Number: 37\n",
      "Mark: 89\n"
     ]
    }
   ],
   "source": [
    "Name = input('Enter the name:')\n",
    "RN =int(input('Enter the roll number:'))\n",
    "M=int(input('Enter the mark:'))\n",
    "print('Name:',Name)\n",
    "print('Roll Number:',RN)\n",
    "print('Mark:',M)\n"
   ]
  },
  {
   "cell_type": "code",
   "execution_count": 3,
   "id": "0b887042",
   "metadata": {},
   "outputs": [],
   "source": [
    "## 2.Write a Python program to convert temperatures to and from Celsius\n",
    "##   Fahrenheit. "
   ]
  },
  {
   "cell_type": "code",
   "execution_count": 4,
   "id": "9a0fab02",
   "metadata": {},
   "outputs": [
    {
     "name": "stdout",
     "output_type": "stream",
     "text": [
      "Enter the temperature in faranheit98.6\n",
      "Temperature in Celsius= 37.0\n",
      "Enter the temperature in celsius37\n",
      "Temperature in Faranheit= 98.6\n"
     ]
    }
   ],
   "source": [
    "F=float(input('Enter the temperature in faranheit'))\n",
    "Celsius=(F-32)*5/9\n",
    "print('Temperature in Celsius=',Celsius)\n",
    "C=float(input('Enter the temperature in celsius'))\n",
    "Faranheit=(9*C/5)+32\n",
    "print('Temperature in Faranheit=',Faranheit)\n"
   ]
  },
  {
   "cell_type": "code",
   "execution_count": 7,
   "id": "3837c4e0",
   "metadata": {},
   "outputs": [],
   "source": [
    "## 3.Write a Python program to accept two numbers from the user and display\n",
    "##   its product."
   ]
  },
  {
   "cell_type": "code",
   "execution_count": 8,
   "id": "8e1b59de",
   "metadata": {},
   "outputs": [
    {
     "name": "stdout",
     "output_type": "stream",
     "text": [
      "Enter the first number25\n",
      "Enter the second number4\n",
      "The product is 100\n"
     ]
    }
   ],
   "source": [
    "a=int(input('Enter the first number'))\n",
    "b=int(input('Enter the second number'))\n",
    "result= a*b\n",
    "print('The product is',result)"
   ]
  },
  {
   "cell_type": "code",
   "execution_count": 9,
   "id": "bafa525b",
   "metadata": {},
   "outputs": [],
   "source": [
    "## 4.Write a Python program to accept a string “Learn Python by Developing a\n",
    "## Website” and display the string like “Learn**Python** by Developing a\n",
    "## **Website**”\n"
   ]
  },
  {
   "cell_type": "code",
   "execution_count": 34,
   "id": "ef9865db",
   "metadata": {},
   "outputs": [
    {
     "name": "stdout",
     "output_type": "stream",
     "text": [
      "Enter the string:Learn Python by Developing a Website\n",
      "Learn **Python **by Developing a **Website**\n"
     ]
    }
   ],
   "source": [
    "s1=input('Enter the string:')\n",
    "s2=s1[0:6]+'**'+s1[6:13]+'**'+s1[13:29]+'**'+s1[29:36]+'**'+s1[36:]\n",
    "print(s2)"
   ]
  },
  {
   "cell_type": "code",
   "execution_count": 11,
   "id": "4506cb70",
   "metadata": {},
   "outputs": [],
   "source": [
    "## 5.Write a Python program to accept the radius of a circle and display its area"
   ]
  },
  {
   "cell_type": "code",
   "execution_count": 12,
   "id": "4e86c383",
   "metadata": {},
   "outputs": [
    {
     "name": "stdout",
     "output_type": "stream",
     "text": [
      "enter the radius of circle10\n",
      "area=  314.1592653589793 sqcm\n"
     ]
    }
   ],
   "source": [
    "import math\n",
    "\n",
    "r=int(input('enter the radius of circle'))\n",
    "print('area= ',math.pi*r*r,'sqcm')"
   ]
  },
  {
   "cell_type": "code",
   "execution_count": 13,
   "id": "50ad128d",
   "metadata": {},
   "outputs": [],
   "source": [
    "## 6.. Python program to insert a number to any position in a list (Get the number to\n",
    "##     be inserted and position from the user)"
   ]
  },
  {
   "cell_type": "code",
   "execution_count": 14,
   "id": "484d1f88",
   "metadata": {},
   "outputs": [
    {
     "name": "stdout",
     "output_type": "stream",
     "text": [
      "enter the number to be inserted in the list =37\n",
      "enter the position to which number is inserted =3\n"
     ]
    },
    {
     "data": {
      "text/plain": [
       "[22, 55, 16, 37, 67, 98]"
      ]
     },
     "execution_count": 14,
     "metadata": {},
     "output_type": "execute_result"
    }
   ],
   "source": [
    "L=[22,55,16,67,98]\n",
    "x=int(input ('enter the number to be inserted in the list ='))\n",
    "y=int(input('enter the position to which number is inserted ='))\n",
    "L.insert(y,x)\n",
    "L"
   ]
  },
  {
   "cell_type": "code",
   "execution_count": 15,
   "id": "293fb705",
   "metadata": {},
   "outputs": [],
   "source": [
    "##7.Write a program to rename a key city to a location in the following dictionary.\n",
    "##  sample_dict = { \"name\": \"John\", \"age\":5, \"salary\": 8000, \"city\": \"New York\"}"
   ]
  },
  {
   "cell_type": "code",
   "execution_count": 35,
   "id": "dc02b25b",
   "metadata": {},
   "outputs": [
    {
     "name": "stdout",
     "output_type": "stream",
     "text": [
      "{'Name': 'John', 'age': 5, 'salary': 8000, 'Location': 'New York'}\n"
     ]
    }
   ],
   "source": [
    "D={\"Name\": \"John\", \"age\":5, \"salary\": 8000, \"city\": \"New York\"}\n",
    "D['Location']=D.pop(\"city\")\n",
    "print(D)"
   ]
  },
  {
   "cell_type": "code",
   "execution_count": 36,
   "id": "8de0ae59",
   "metadata": {},
   "outputs": [],
   "source": [
    "## 8.Write a Python program to change Brad’s salary to 8500 in the following\n",
    "##   dictionary.\n",
    "##   sample_dict = {\n",
    "##   'emp1': {'name': 'John', 'salary': 7500},\n",
    "##   'emp2': {'name': 'Emma', 'salary': 8000},\n",
    "##   'emp3': {'name': 'Brad', 'salary': 500}\n",
    "##    }\n"
   ]
  },
  {
   "cell_type": "code",
   "execution_count": 18,
   "id": "34b2e862",
   "metadata": {},
   "outputs": [
    {
     "name": "stdout",
     "output_type": "stream",
     "text": [
      "{'emp1': {'name': 'John', 'salary': 7500}, 'emp2': {'name': 'Emma', 'salary': 8000}, 'emp3': {'name': 'Brad', 'salary': 8500}}\n"
     ]
    }
   ],
   "source": [
    "dict1 = {'emp1': {'name': 'John', 'salary': 7500},\n",
    "'emp2': {'name': 'Emma', 'salary': 8000},\n",
    "'emp3': {'name': 'Brad', 'salary': 500}\n",
    "}\n",
    "dict1['emp3']['salary']=8500\n",
    "print(dict1)\n"
   ]
  },
  {
   "cell_type": "code",
   "execution_count": 19,
   "id": "a970f4e7",
   "metadata": {},
   "outputs": [],
   "source": [
    "## 9.Write a program to copy elements 43 and 54 from the following tuple into a\n",
    "##   new tuple. Given:\n",
    "##   tuple1 = (10, 20, 43, 54, 56, 68)\n"
   ]
  },
  {
   "cell_type": "code",
   "execution_count": 20,
   "id": "9c0c6d55",
   "metadata": {},
   "outputs": [
    {
     "data": {
      "text/plain": [
       "(43, 54)"
      ]
     },
     "execution_count": 20,
     "metadata": {},
     "output_type": "execute_result"
    }
   ],
   "source": [
    "tuple1 = (10,20,43,54,56,68)\n",
    "tuple2 =(tuple1[2:4])\n",
    "tuple2"
   ]
  },
  {
   "cell_type": "code",
   "execution_count": 21,
   "id": "d438ba28",
   "metadata": {},
   "outputs": [],
   "source": [
    "##10.Counts the number of occurrences of item 50 from a tuple\n",
    "##   tuple1 = (50, 10, 60, 70, 50,83,567,50,81)"
   ]
  },
  {
   "cell_type": "code",
   "execution_count": 22,
   "id": "e30df2ba",
   "metadata": {},
   "outputs": [
    {
     "data": {
      "text/plain": [
       "3"
      ]
     },
     "execution_count": 22,
     "metadata": {},
     "output_type": "execute_result"
    }
   ],
   "source": [
    "t1=(50,10,60,70,50,83,567,50,81)\n",
    "t1.count(50)"
   ]
  },
  {
   "cell_type": "code",
   "execution_count": null,
   "id": "039c9074",
   "metadata": {},
   "outputs": [],
   "source": []
  }
 ],
 "metadata": {
  "kernelspec": {
   "display_name": "Python 3 (ipykernel)",
   "language": "python",
   "name": "python3"
  },
  "language_info": {
   "codemirror_mode": {
    "name": "ipython",
    "version": 3
   },
   "file_extension": ".py",
   "mimetype": "text/x-python",
   "name": "python",
   "nbconvert_exporter": "python",
   "pygments_lexer": "ipython3",
   "version": "3.9.13"
  }
 },
 "nbformat": 4,
 "nbformat_minor": 5
}
